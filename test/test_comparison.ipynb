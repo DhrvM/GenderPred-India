{
 "cells": [
  {
   "cell_type": "code",
   "execution_count": 6,
   "metadata": {},
   "outputs": [],
   "source": [
    "from tensorflow.keras.models import load_model\n",
    "from tensorflow.keras.preprocessing.sequence import pad_sequences\n",
    "import pickle\n",
    "from tensorflow.keras.models import Sequential\n",
    "from tensorflow.keras.layers import Embedding, LSTM, Dense, Dropout\n",
    "import re"
   ]
  },
  {
   "cell_type": "code",
   "execution_count": 10,
   "metadata": {},
   "outputs": [
    {
     "name": "stderr",
     "output_type": "stream",
     "text": [
      "c:\\Users\\dhruv\\AppData\\Local\\Programs\\Python\\Python312\\Lib\\site-packages\\keras\\src\\layers\\core\\embedding.py:90: UserWarning: Argument `input_length` is deprecated. Just remove it.\n",
      "  warnings.warn(\n",
      "WARNING:absl:Compiled the loaded model, but the compiled metrics have yet to be built. `model.compile_metrics` will be empty until you train or evaluate the model.\n"
     ]
    }
   ],
   "source": [
    "# To load the model, tokenizer, and label encoder\n",
    "with open('../genderpred_in/tokenizer.pickle', 'rb') as handle:\n",
    "    tokenizer = pickle.load(handle)\n",
    "with open('../genderpred_in/label_encoder.pickle', 'rb') as handle:\n",
    "    label_encoder = pickle.load(handle)\n",
    "\n",
    "\n",
    "# Define the LSTM model\n",
    "model = Sequential()\n",
    "model.add(Embedding(input_dim=len(tokenizer.word_index) + 1, output_dim=50, input_length=21))\n",
    "model.add(LSTM(units=128, return_sequences=False))\n",
    "model.add(Dropout(0.5))\n",
    "model.add(Dense(units=3, activation='softmax'))\n",
    "model = load_model('../genderpred_in/gender_prediction_model.h5')\n",
    "model.compile(loss='sparse_categorical_crossentropy', optimizer='adam', metrics=['accuracy'])"
   ]
  },
  {
   "cell_type": "code",
   "execution_count": 7,
   "metadata": {},
   "outputs": [],
   "source": [
    "# Ensure max_length matches the training configuration\n",
    "max_length = 21  # Update this to match your training configuration if different\n",
    "\n",
    "# Classification Function\n",
    "def classify_name(full_name):\n",
    "    # Tokenize and pad the input name\n",
    "    name = clean_name(full_name)\n",
    "    sequence = tokenizer.texts_to_sequences([name])\n",
    "    padded_sequence = pad_sequences(sequence, maxlen=max_length, padding='post')\n",
    "\n",
    "    # Predict the probabilities\n",
    "    probabilities = model.predict(padded_sequence)[0]\n",
    "    \n",
    "    # Get the class probabilities\n",
    "    male_index = label_encoder.transform(['m'])[0]\n",
    "    female_index = label_encoder.transform(['f'])[0]\n",
    "    male_prob = float(probabilities[male_index])\n",
    "    female_prob = float(probabilities[female_index])\n",
    "\n",
    "    \n",
    "    # Apply the threshold logic\n",
    "    if male_prob > 0.85:\n",
    "        predicted_gender = 'male'\n",
    "    elif female_prob > 0.85:\n",
    "        predicted_gender = 'female'\n",
    "    else:\n",
    "        predicted_gender = 'unknown'\n",
    "\n",
    "    return {\n",
    "        \"name\" : full_name,\n",
    "        \"first_name\": name,\n",
    "        \"gender\": predicted_gender,\n",
    "        \"percent_male\": male_prob,\n",
    "        \"percent_female\": female_prob\n",
    "    }\n",
    "\n",
    "\n",
    "def clean_name(name):\n",
    "    # Take the first word from the name\n",
    "    name = name.split()[0]\n",
    "    # Remove non-alphabetic characters\n",
    "    name = re.sub('[^a-zA-Z]', '', name)\n",
    "    # Remove non-printable characters and keep ASCII characters\n",
    "    name = ''.join([\" \" if ord(i) < 32 or ord(i) > 126 else i for i in name])\n",
    "    # Convert name to uppercase\n",
    "    name = name.upper()\n",
    "    # Strip leading and trailing whitespace\n",
    "    name = name.strip()\n",
    "    return name"
   ]
  },
  {
   "cell_type": "code",
   "execution_count": 11,
   "metadata": {},
   "outputs": [
    {
     "ename": "FileNotFoundError",
     "evalue": "[Errno 2] No such file or directory: 'genderpred_in/tokenizer.pickle'",
     "output_type": "error",
     "traceback": [
      "\u001b[1;31m---------------------------------------------------------------------------\u001b[0m",
      "\u001b[1;31mFileNotFoundError\u001b[0m                         Traceback (most recent call last)",
      "Cell \u001b[1;32mIn[11], line 1\u001b[0m\n\u001b[1;32m----> 1\u001b[0m \u001b[38;5;28;01mimport\u001b[39;00m \u001b[38;5;21;01mgenderpred_in\u001b[39;00m\n",
      "File \u001b[1;32mc:\\Users\\dhruv\\AppData\\Local\\Programs\\Python\\Python312\\Lib\\site-packages\\genderpred_in\\__init__.py:1\u001b[0m\n\u001b[1;32m----> 1\u001b[0m \u001b[38;5;28;01mfrom\u001b[39;00m \u001b[38;5;21;01m.\u001b[39;00m\u001b[38;5;21;01mpredictLSTM\u001b[39;00m \u001b[38;5;28;01mimport\u001b[39;00m classify_name, get_name, get_first_name, get_male_probability, get_female_probability, get_gender\n",
      "File \u001b[1;32mc:\\Users\\dhruv\\AppData\\Local\\Programs\\Python\\Python312\\Lib\\site-packages\\genderpred_in\\predictLSTM.py:14\u001b[0m\n\u001b[0;32m      9\u001b[0m \u001b[38;5;28;01mimport\u001b[39;00m \u001b[38;5;21;01mre\u001b[39;00m\n\u001b[0;32m     13\u001b[0m \u001b[38;5;66;03m# Load the tokenizer and label encoder\u001b[39;00m\n\u001b[1;32m---> 14\u001b[0m \u001b[38;5;28;01mwith\u001b[39;00m \u001b[38;5;28;43mopen\u001b[39;49m\u001b[43m(\u001b[49m\u001b[38;5;124;43m'\u001b[39;49m\u001b[38;5;124;43mgenderpred_in/tokenizer.pickle\u001b[39;49m\u001b[38;5;124;43m'\u001b[39;49m\u001b[43m,\u001b[49m\u001b[43m \u001b[49m\u001b[38;5;124;43m'\u001b[39;49m\u001b[38;5;124;43mrb\u001b[39;49m\u001b[38;5;124;43m'\u001b[39;49m\u001b[43m)\u001b[49m \u001b[38;5;28;01mas\u001b[39;00m handle:\n\u001b[0;32m     15\u001b[0m     tokenizer \u001b[38;5;241m=\u001b[39m pickle\u001b[38;5;241m.\u001b[39mload(handle)\n\u001b[0;32m     16\u001b[0m \u001b[38;5;28;01mwith\u001b[39;00m \u001b[38;5;28mopen\u001b[39m(\u001b[38;5;124m'\u001b[39m\u001b[38;5;124mgenderpred_in/label_encoder.pickle\u001b[39m\u001b[38;5;124m'\u001b[39m, \u001b[38;5;124m'\u001b[39m\u001b[38;5;124mrb\u001b[39m\u001b[38;5;124m'\u001b[39m) \u001b[38;5;28;01mas\u001b[39;00m handle:\n",
      "\u001b[1;31mFileNotFoundError\u001b[0m: [Errno 2] No such file or directory: 'genderpred_in/tokenizer.pickle'"
     ]
    }
   ],
   "source": [
    "import genderpred_in"
   ]
  }
 ],
 "metadata": {
  "kernelspec": {
   "display_name": "Python 3",
   "language": "python",
   "name": "python3"
  },
  "language_info": {
   "codemirror_mode": {
    "name": "ipython",
    "version": 3
   },
   "file_extension": ".py",
   "mimetype": "text/x-python",
   "name": "python",
   "nbconvert_exporter": "python",
   "pygments_lexer": "ipython3",
   "version": "3.12.3"
  }
 },
 "nbformat": 4,
 "nbformat_minor": 2
}
